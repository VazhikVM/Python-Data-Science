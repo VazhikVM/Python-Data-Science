{
 "cells": [
  {
   "cell_type": "markdown",
   "id": "386f03c1",
   "metadata": {},
   "source": [
    "\n",
    "Задание для курсового проекта\n",
    "\n",
    "Метрика: R2 - коэффициент детерминации (sklearn.metrics.r2_score)\n",
    "Сдача проекта:\n",
    "\n",
    "    Срок сдачи: 05.02.2021\n",
    "    Прислать в раздел Задания Урока 10 (\"Вебинар. Консультация по итоговому проекту\") ссылку на ноутбук в github или public kaggle notebook\n",
    "    Необходимо получить R2 > 0.6 на Private Leaderboard\n",
    "    Ник на kaggle - alena77\n",
    "\n",
    "Примечание: Все файлы csv должны содержать названия полей (header - то есть \"шапку\"), разделитель - запятая. В файлах не должны содержаться индексы из датафрейма.\n",
    "Рекомендации для файла с кодом (ipynb):\n",
    "\n",
    "    Файл должен содержать заголовки и комментарии\n",
    "    Повторяющиеся операции лучше оформлять в виде функций\n",
    "    По возможности добавлять графики, описывающие данные (около 3-5)\n",
    "    Добавлять только лучшую модель, то есть не включать в код все варианты решения проекта\n",
    "    Скрипт проекта должен отрабатывать от начала и до конца (от загрузки данных до выгрузки предсказаний)\n",
    "    Весь проект должен быть в одном скрипте (файл ipynb).\n",
    "    При использовании статистик (среднее, медиана и т.д.) в качестве признаков, лучше считать их на трейне, и потом на валидационных и тестовых данных не считать статистики заново, а брать их с трейна.\n",
    "    Проект должен полностью отрабатывать за разумное время (не больше 10 минут), поэтому в финальный вариант лучше не включать GridSearch с перебором большого количества сочетаний параметров.\n",
    "\n"
   ]
  },
  {
   "cell_type": "markdown",
   "id": "428eadb5",
   "metadata": {},
   "source": [
    "Подключение библиотек и скриптов"
   ]
  },
  {
   "cell_type": "code",
   "execution_count": 3,
   "id": "c119876e",
   "metadata": {},
   "outputs": [],
   "source": [
    "# This Python 3 environment comes with many helpful analytics libraries installed\n",
    "# It is defined by the kaggle/python Docker image: https://github.com/kaggle/docker-python\n",
    "# For example, here's several helpful packages to load\n",
    "\n",
    "import numpy as np # linear algebra\n",
    "import pandas as pd # data processing, CSV file I/O (e.g. pd.read_csv)\n",
    "\n",
    "# Input data files are available in the read-only \"../input/\" directory\n",
    "# For example, running this (by clicking run or pressing Shift+Enter) will list all files under the input directory\n",
    "\n",
    "import os\n",
    "for dirname, _, filenames in os.walk('/kaggle/input'):\n",
    "    for filename in filenames:\n",
    "        print(os.path.join(dirname, filename))\n",
    "\n",
    "# You can write up to 5GB to the current directory (/kaggle/working/) that gets preserved as output when you create a version using \"Save & Run All\" \n",
    "# You can also write temporary files to /kaggle/temp/, but they won't be saved outside of the current session"
   ]
  },
  {
   "cell_type": "code",
   "execution_count": 4,
   "id": "da59edf2",
   "metadata": {},
   "outputs": [],
   "source": [
    "import numpy as np\n",
    "import pandas as pd\n",
    "import seaborn as sns\n",
    "import matplotlib\n",
    "import matplotlib.pyplot as plt\n",
    "import random\n",
    "import warnings\n",
    "\n",
    "from matplotlib import style\n",
    "from sklearn import ensemble\n",
    "from sklearn.ensemble import VotingRegressor\n",
    "from sklearn.ensemble import RandomForestRegressor\n",
    "from sklearn.metrics import r2_score as r2\n",
    "from sklearn.model_selection import train_test_split, cross_val_score\n",
    "from sklearn.preprocessing import StandardScaler, RobustScaler\n",
    "from sklearn.model_selection import KFold, GridSearchCV\n",
    "from datetime import datetime\n",
    "from pylab import rcParams\n",
    "\n",
    "style.use('fivethirtyeight')\n",
    "%matplotlib inline\n",
    "warnings.filterwarnings('ignore')"
   ]
  },
  {
   "cell_type": "code",
   "execution_count": 5,
   "id": "f0e92b03",
   "metadata": {},
   "outputs": [],
   "source": [
    "matplotlib.rcParams.update({'font.size': 14})"
   ]
  },
  {
   "cell_type": "code",
   "execution_count": 6,
   "id": "bd851f9d",
   "metadata": {},
   "outputs": [],
   "source": [
    "def evaluate_preds(train_true_values, train_pred_values, test_true_values, test_pred_values):\n",
    "    print(\"Train R2:\\t\" + str(round(r2(train_true_values, train_pred_values), 3)))\n",
    "    print(\"Test R2:\\t\" + str(round(r2(test_true_values, test_pred_values), 3)))\n",
    "    \n",
    "    plt.figure(figsize=(18,10))\n",
    "    \n",
    "    plt.subplot(121)\n",
    "    sns.scatterplot(x=train_pred_values, y=train_true_values)\n",
    "    plt.xlabel('Predicted values')\n",
    "    plt.ylabel('True values')\n",
    "    plt.title('Train sample prediction')\n",
    "    \n",
    "    plt.subplot(122)\n",
    "    sns.scatterplot(x=test_pred_values, y=test_true_values)\n",
    "    plt.xlabel('Predicted values')\n",
    "    plt.ylabel('True values')\n",
    "    plt.title('Test sample prediction')\n",
    "\n",
    "    plt.show()"
   ]
  },
  {
   "cell_type": "markdown",
   "id": "ead64b39",
   "metadata": {},
   "source": [
    "Загрузка данных"
   ]
  },
  {
   "cell_type": "code",
   "execution_count": null,
   "id": "26cfdbfc",
   "metadata": {},
   "outputs": [],
   "source": [
    "TEST_DATASET_PATH = '/kaggle/input/realestatepriceprediction/test.csv'\n",
    "TRAIN_DATASET_PATH = '/kaggle/input/realestatepriceprediction/train.csv'\n",
    "\n",
    "test_data = pd.read_csv(TEST_DATASET_PATH)\n",
    "train_data = pd.read_csv(TRAIN_DATASET_PATH)"
   ]
  },
  {
   "cell_type": "markdown",
   "id": "bd7817b8",
   "metadata": {},
   "source": [
    "Описание датасета\n",
    "\n",
    "    Id - идентификационный номер квартиры\n",
    "    DistrictId - идентификационный номер района\n",
    "    Rooms - количество комнат\n",
    "    Square - площадь\n",
    "    LifeSquare - жилая площадь\n",
    "    KitchenSquare - площадь кухни\n",
    "    Floor - этаж\n",
    "    HouseFloor - количество этажей в доме\n",
    "    HouseYear - год постройки дома\n",
    "    Ecology_1, Ecology_2, Ecology_3 - экологические показатели местности\n",
    "    Social_1, Social_2, Social_3 - социальные показатели местности\n",
    "    Healthcare_1, Helthcare_2 - показатели местности, связанные с охраной здоровья\n",
    "    Shops_1, Shops_2 - показатели, связанные с наличием магазинов, торговых центров\n",
    "    Price - цена квартиры"
   ]
  },
  {
   "cell_type": "code",
   "execution_count": null,
   "id": "c665e12a",
   "metadata": {},
   "outputs": [],
   "source": [
    "train_data.tail()"
   ]
  },
  {
   "cell_type": "markdown",
   "id": "ba805efc",
   "metadata": {},
   "source": [
    "Анализ распределения целевой переменной в разрезе иных признаков"
   ]
  },
  {
   "cell_type": "code",
   "execution_count": null,
   "id": "a87e1781",
   "metadata": {},
   "outputs": [],
   "source": [
    "plt.figure(figsize=(12, 6))\n",
    "sns.boxplot(train_data['Rooms'], train_data['Price'])\n",
    "plt.xlabel('Rooms')\n",
    "plt.ylabel('Price')\n",
    "plt.title('Distribution of Price by Rooms')\n",
    "plt.show()"
   ]
  },
  {
   "cell_type": "markdown",
   "id": "7a8171dc",
   "metadata": {},
   "source": [
    "Исключение малозначимых столбцов, содержащих количественные признаки"
   ]
  },
  {
   "cell_type": "code",
   "execution_count": null,
   "id": "213253b4",
   "metadata": {},
   "outputs": [],
   "source": [
    "train_data.dtypes"
   ]
  },
  {
   "cell_type": "code",
   "execution_count": null,
   "id": "c82b49e7",
   "metadata": {},
   "outputs": [],
   "source": [
    "df_num_features = train_data.select_dtypes(include='float64')\n",
    "\n",
    "num_features = pd.DataFrame(df_num_features)\n",
    "num_features.drop('Ecology_1', axis=1, inplace=True)\n",
    "num_features.drop('Healthcare_1', axis=1, inplace=True)\n",
    "num_features.hist(figsize=(10, 8), bins=20, grid=False)"
   ]
  },
  {
   "cell_type": "markdown",
   "id": "f789426f",
   "metadata": {},
   "source": [
    "Взаимосвязь признаков"
   ]
  },
  {
   "cell_type": "code",
   "execution_count": null,
   "id": "1a6c803b",
   "metadata": {},
   "outputs": [],
   "source": [
    "corr = num_features.corr()\n",
    "plt.figure(figsize = (8, 8))\n",
    "mask = np.zeros_like(corr, dtype=np.bool)\n",
    "mask[np.triu_indices_from(mask)] = True\n",
    "sns.set(font_scale=1.4)\n",
    "sns.heatmap(num_features.corr(), mask=mask, annot=True, fmt='.1f', linewidths=.5, cmap='GnBu')\n",
    "plt.title('Relationship matrix')\n",
    "plt.show()"
   ]
  },
  {
   "cell_type": "code",
   "execution_count": null,
   "id": "aa684112",
   "metadata": {},
   "outputs": [],
   "source": [
    "test_data.info()"
   ]
  },
  {
   "cell_type": "markdown",
   "id": "f8a73cdb",
   "metadata": {},
   "source": [
    "Заполнение пропусков"
   ]
  },
  {
   "cell_type": "code",
   "execution_count": null,
   "id": "09fef33b",
   "metadata": {},
   "outputs": [],
   "source": [
    "train_data = train_data.sort_values('Price')\n",
    "test_data = test_data.sort_values('DistrictId')\n",
    "train_data = train_data.fillna(method='pad')\n",
    "test_data = test_data.fillna(method='pad')"
   ]
  },
  {
   "cell_type": "markdown",
   "id": "0bcdd964",
   "metadata": {},
   "source": [
    "Проверка данных"
   ]
  },
  {
   "cell_type": "code",
   "execution_count": null,
   "id": "adf4772b",
   "metadata": {},
   "outputs": [],
   "source": [
    "rcParams['figure.figsize'] = 12, 6  # изменение размера графиков\n",
    "\n",
    "plt.scatter(train_data.Price, train_data.Square)"
   ]
  },
  {
   "cell_type": "markdown",
   "id": "29243806",
   "metadata": {},
   "source": [
    "Формирование и обучение модели. Предсказание цен"
   ]
  },
  {
   "cell_type": "code",
   "execution_count": null,
   "id": "8269dd54",
   "metadata": {},
   "outputs": [],
   "source": [
    "# формирование модели\n",
    "\n",
    "X_train = train_data.drop('Price', axis=1) # 1\n",
    "y_train = train_data['Price'] # 1\n",
    "\n",
    "X_test = test_data # 2\n",
    "\n",
    "pr = pd.DataFrame()\n",
    "pr['Id'] = X_test['Id'].copy() # 2.0\n",
    "\n",
    "del_list = [\"Id\", \"DistrictId\", \"LifeSquare\", \"Healthcare_1\", \"Ecology_2\", \"Ecology_3\", \"Shops_2\"]\n",
    "X_train.drop(del_list, axis=1, inplace=True) # 1\n",
    "X_test.drop(del_list, axis=1, inplace=True) # 2\n",
    "\n",
    "# обучение модели\n",
    "model = RandomForestRegressor(n_estimators=1000, max_depth=16, random_state=42, max_features=7)\n",
    "model.fit(X_train, y_train) # 1\n",
    "\n",
    "y_pred = model.predict(X_test) # 2\n",
    "\n",
    "# предсказание цен\n",
    "pr['Price'] = y_pred # 2.0\n",
    "pr.to_csv('predictions.csv', index=False) # 2.0"
   ]
  },
  {
   "cell_type": "code",
   "execution_count": null,
   "id": "b89c9ae0",
   "metadata": {},
   "outputs": [],
   "source": []
  },
  {
   "cell_type": "code",
   "execution_count": null,
   "id": "36433e2c",
   "metadata": {},
   "outputs": [],
   "source": []
  },
  {
   "cell_type": "code",
   "execution_count": null,
   "id": "4cd8ae54",
   "metadata": {},
   "outputs": [],
   "source": []
  }
 ],
 "metadata": {
  "kernelspec": {
   "display_name": "Python 3 (ipykernel)",
   "language": "python",
   "name": "python3"
  },
  "language_info": {
   "codemirror_mode": {
    "name": "ipython",
    "version": 3
   },
   "file_extension": ".py",
   "mimetype": "text/x-python",
   "name": "python",
   "nbconvert_exporter": "python",
   "pygments_lexer": "ipython3",
   "version": "3.9.7"
  }
 },
 "nbformat": 4,
 "nbformat_minor": 5
}
