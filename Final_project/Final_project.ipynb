{
 "cells": [
  {
   "cell_type": "markdown",
   "id": "7a194f81",
   "metadata": {},
   "source": [
    "\n",
    "Задание для курсового проекта\n",
    "\n",
    "Метрика: R2 - коэффициент детерминации (sklearn.metrics.r2_score)\n",
    "Сдача проекта:\n",
    "\n",
    "    Срок сдачи: 05.02.2021\n",
    "    Прислать в раздел Задания Урока 10 (\"Вебинар. Консультация по итоговому проекту\") ссылку на ноутбук в github или public kaggle notebook\n",
    "    Необходимо получить R2 > 0.6 на Private Leaderboard\n",
    "    Ник на kaggle - alena77\n",
    "\n",
    "Примечание: Все файлы csv должны содержать названия полей (header - то есть \"шапку\"), разделитель - запятая. В файлах не должны содержаться индексы из датафрейма.\n",
    "Рекомендации для файла с кодом (ipynb):\n",
    "\n",
    "    Файл должен содержать заголовки и комментарии\n",
    "    Повторяющиеся операции лучше оформлять в виде функций\n",
    "    По возможности добавлять графики, описывающие данные (около 3-5)\n",
    "    Добавлять только лучшую модель, то есть не включать в код все варианты решения проекта\n",
    "    Скрипт проекта должен отрабатывать от начала и до конца (от загрузки данных до выгрузки предсказаний)\n",
    "    Весь проект должен быть в одном скрипте (файл ipynb).\n",
    "    При использовании статистик (среднее, медиана и т.д.) в качестве признаков, лучше считать их на трейне, и потом на валидационных и тестовых данных не считать статистики заново, а брать их с трейна.\n",
    "    Проект должен полностью отрабатывать за разумное время (не больше 10 минут), поэтому в финальный вариант лучше не включать GridSearch с перебором большого количества сочетаний параметров.\n",
    "\n"
   ]
  },
  {
   "cell_type": "markdown",
   "id": "4a0b80e7",
   "metadata": {},
   "source": [
    "Подключение библиотек и скриптов"
   ]
  },
  {
   "cell_type": "code",
   "execution_count": 64,
   "id": "15c4e4e0",
   "metadata": {},
   "outputs": [
    {
     "name": "stdout",
     "output_type": "stream",
     "text": [
      "['creditcard.csv'] ['creditcard.csv']\n"
     ]
    },
    {
     "ename": "NameError",
     "evalue": "name 'filenames' is not defined",
     "output_type": "error",
     "traceback": [
      "\u001b[1;31m---------------------------------------------------------------------------\u001b[0m",
      "\u001b[1;31mNameError\u001b[0m                                 Traceback (most recent call last)",
      "\u001b[1;32m~\\AppData\\Local\\Temp/ipykernel_9316/1626672697.py\u001b[0m in \u001b[0;36m<module>\u001b[1;34m\u001b[0m\n\u001b[0;32m      9\u001b[0m \u001b[1;32mfor\u001b[0m \u001b[0mdirname\u001b[0m\u001b[1;33m,\u001b[0m \u001b[0m_\u001b[0m\u001b[1;33m,\u001b[0m \u001b[0mdirname\u001b[0m \u001b[1;32min\u001b[0m \u001b[0mos\u001b[0m\u001b[1;33m.\u001b[0m\u001b[0mwalk\u001b[0m\u001b[1;33m(\u001b[0m\u001b[1;34m'C:/Users/vazhik/Documents/Data Science'\u001b[0m\u001b[1;33m)\u001b[0m\u001b[1;33m:\u001b[0m\u001b[1;33m\u001b[0m\u001b[1;33m\u001b[0m\u001b[0m\n\u001b[0;32m     10\u001b[0m     \u001b[0mprint\u001b[0m\u001b[1;33m(\u001b[0m\u001b[0mdirname\u001b[0m\u001b[1;33m,\u001b[0m \u001b[0mdirname\u001b[0m\u001b[1;33m)\u001b[0m\u001b[1;33m\u001b[0m\u001b[1;33m\u001b[0m\u001b[0m\n\u001b[1;32m---> 11\u001b[1;33m     \u001b[1;32mfor\u001b[0m \u001b[0mfilename\u001b[0m \u001b[1;32min\u001b[0m \u001b[0mfilenames\u001b[0m\u001b[1;33m:\u001b[0m\u001b[1;33m\u001b[0m\u001b[1;33m\u001b[0m\u001b[0m\n\u001b[0m\u001b[0;32m     12\u001b[0m         \u001b[0mprint\u001b[0m\u001b[1;33m(\u001b[0m\u001b[0mos\u001b[0m\u001b[1;33m.\u001b[0m\u001b[0mpath\u001b[0m\u001b[1;33m.\u001b[0m\u001b[0mjoin\u001b[0m\u001b[1;33m(\u001b[0m\u001b[0mdirname\u001b[0m\u001b[1;33m,\u001b[0m \u001b[0mfilename\u001b[0m\u001b[1;33m)\u001b[0m\u001b[1;33m)\u001b[0m\u001b[1;33m\u001b[0m\u001b[1;33m\u001b[0m\u001b[0m\n\u001b[0;32m     13\u001b[0m \u001b[1;31m# You can write up to 5GB to the current directory (/kaggle/working/) that gets preserved as output when you create a version using \"Save & Run All\"\u001b[0m\u001b[1;33m\u001b[0m\u001b[1;33m\u001b[0m\u001b[0m\n",
      "\u001b[1;31mNameError\u001b[0m: name 'filenames' is not defined"
     ]
    }
   ],
   "source": [
    "import numpy as np \n",
    "import pandas as pd \n",
    "import os\n",
    "\n",
    "\n",
    "for dirname, _, dirname in os.walk('C:/Users/vazhik/Documents/Data Science'):\n",
    "    print(dirname, dirname)\n",
    "    for filename in filenames:\n",
    "        print(os.path.join(dirname, filename))\n",
    "# You can write up to 5GB to the current directory (/kaggle/working/) that gets preserved as output when you create a version using \"Save & Run All\" \n",
    "# You can also write temporary files to /kaggle/temp/, but they won't be saved outside of the current session"
   ]
  },
  {
   "cell_type": "code",
   "execution_count": 29,
   "id": "dc65b884",
   "metadata": {
    "scrolled": true
   },
   "outputs": [
    {
     "data": {
      "text/plain": [
       "['creditcard.csv', 'Python-Data-Science']"
      ]
     },
     "execution_count": 29,
     "metadata": {},
     "output_type": "execute_result"
    }
   ],
   "source": [
    "os.listdir('C:/Users/vazhik/Documents/Data Science')"
   ]
  },
  {
   "cell_type": "code",
   "execution_count": 61,
   "id": "3a8fac16",
   "metadata": {},
   "outputs": [
    {
     "data": {
      "text/plain": [
       "<generator object _walk at 0x0000021D1EC35820>"
      ]
     },
     "execution_count": 61,
     "metadata": {},
     "output_type": "execute_result"
    }
   ],
   "source": [
    "os.walk('C:/Users/vazhik/Documents/Data Science')"
   ]
  },
  {
   "cell_type": "code",
   "execution_count": 4,
   "id": "84713bfd",
   "metadata": {},
   "outputs": [],
   "source": [
    "import numpy as np\n",
    "import pandas as pd\n",
    "import seaborn as sns\n",
    "import matplotlib\n",
    "import matplotlib.pyplot as plt\n",
    "import random\n",
    "import warnings\n",
    "\n",
    "from matplotlib import style\n",
    "from sklearn import ensemble\n",
    "from sklearn.ensemble import VotingRegressor\n",
    "from sklearn.ensemble import RandomForestRegressor\n",
    "from sklearn.metrics import r2_score as r2\n",
    "from sklearn.model_selection import train_test_split, cross_val_score\n",
    "from sklearn.preprocessing import StandardScaler, RobustScaler\n",
    "from sklearn.model_selection import KFold, GridSearchCV\n",
    "from datetime import datetime\n",
    "from pylab import rcParams\n",
    "\n",
    "style.use('fivethirtyeight')\n",
    "%matplotlib inline\n",
    "warnings.filterwarnings('ignore')"
   ]
  },
  {
   "cell_type": "code",
   "execution_count": 5,
   "id": "946259c1",
   "metadata": {},
   "outputs": [],
   "source": [
    "matplotlib.rcParams.update({'font.size': 14})"
   ]
  },
  {
   "cell_type": "code",
   "execution_count": 6,
   "id": "13b6cbcc",
   "metadata": {},
   "outputs": [],
   "source": [
    "def evaluate_preds(train_true_values, train_pred_values, test_true_values, test_pred_values):\n",
    "    print(\"Train R2:\\t\" + str(round(r2(train_true_values, train_pred_values), 3)))\n",
    "    print(\"Test R2:\\t\" + str(round(r2(test_true_values, test_pred_values), 3)))\n",
    "    \n",
    "    plt.figure(figsize=(18,10))\n",
    "    \n",
    "    plt.subplot(121)\n",
    "    sns.scatterplot(x=train_pred_values, y=train_true_values)\n",
    "    plt.xlabel('Predicted values')\n",
    "    plt.ylabel('True values')\n",
    "    plt.title('Train sample prediction')\n",
    "    \n",
    "    plt.subplot(122)\n",
    "    sns.scatterplot(x=test_pred_values, y=test_true_values)\n",
    "    plt.xlabel('Predicted values')\n",
    "    plt.ylabel('True values')\n",
    "    plt.title('Test sample prediction')\n",
    "\n",
    "    plt.show()"
   ]
  },
  {
   "cell_type": "markdown",
   "id": "6d62dbeb",
   "metadata": {},
   "source": [
    "Загрузка данных"
   ]
  },
  {
   "cell_type": "code",
   "execution_count": null,
   "id": "0cda0ba3",
   "metadata": {},
   "outputs": [],
   "source": [
    "TEST_DATASET_PATH = '/kaggle/input/realestatepriceprediction/test.csv'\n",
    "TRAIN_DATASET_PATH = '/kaggle/input/realestatepriceprediction/train.csv'\n",
    "\n",
    "test_data = pd.read_csv(TEST_DATASET_PATH)\n",
    "train_data = pd.read_csv(TRAIN_DATASET_PATH)"
   ]
  },
  {
   "cell_type": "markdown",
   "id": "86f8e0c8",
   "metadata": {},
   "source": [
    "Описание датасета\n",
    "\n",
    "    Id - идентификационный номер квартиры\n",
    "    DistrictId - идентификационный номер района\n",
    "    Rooms - количество комнат\n",
    "    Square - площадь\n",
    "    LifeSquare - жилая площадь\n",
    "    KitchenSquare - площадь кухни\n",
    "    Floor - этаж\n",
    "    HouseFloor - количество этажей в доме\n",
    "    HouseYear - год постройки дома\n",
    "    Ecology_1, Ecology_2, Ecology_3 - экологические показатели местности\n",
    "    Social_1, Social_2, Social_3 - социальные показатели местности\n",
    "    Healthcare_1, Helthcare_2 - показатели местности, связанные с охраной здоровья\n",
    "    Shops_1, Shops_2 - показатели, связанные с наличием магазинов, торговых центров\n",
    "    Price - цена квартиры"
   ]
  },
  {
   "cell_type": "code",
   "execution_count": null,
   "id": "ee90e9a0",
   "metadata": {},
   "outputs": [],
   "source": [
    "train_data.tail()"
   ]
  },
  {
   "cell_type": "markdown",
   "id": "988af3ad",
   "metadata": {},
   "source": [
    "Анализ распределения целевой переменной в разрезе иных признаков"
   ]
  },
  {
   "cell_type": "code",
   "execution_count": null,
   "id": "50e7cfe3",
   "metadata": {},
   "outputs": [],
   "source": [
    "plt.figure(figsize=(12, 6))\n",
    "sns.boxplot(train_data['Rooms'], train_data['Price'])\n",
    "plt.xlabel('Rooms')\n",
    "plt.ylabel('Price')\n",
    "plt.title('Distribution of Price by Rooms')\n",
    "plt.show()"
   ]
  },
  {
   "cell_type": "markdown",
   "id": "7f3cd8fa",
   "metadata": {},
   "source": [
    "Исключение малозначимых столбцов, содержащих количественные признаки"
   ]
  },
  {
   "cell_type": "code",
   "execution_count": null,
   "id": "0115641b",
   "metadata": {},
   "outputs": [],
   "source": [
    "train_data.dtypes"
   ]
  },
  {
   "cell_type": "code",
   "execution_count": null,
   "id": "70bbf706",
   "metadata": {},
   "outputs": [],
   "source": [
    "df_num_features = train_data.select_dtypes(include='float64')\n",
    "\n",
    "num_features = pd.DataFrame(df_num_features)\n",
    "num_features.drop('Ecology_1', axis=1, inplace=True)\n",
    "num_features.drop('Healthcare_1', axis=1, inplace=True)\n",
    "num_features.hist(figsize=(10, 8), bins=20, grid=False)"
   ]
  },
  {
   "cell_type": "markdown",
   "id": "34d70899",
   "metadata": {},
   "source": [
    "Взаимосвязь признаков"
   ]
  },
  {
   "cell_type": "code",
   "execution_count": null,
   "id": "a9b1c56b",
   "metadata": {},
   "outputs": [],
   "source": [
    "corr = num_features.corr()\n",
    "plt.figure(figsize = (8, 8))\n",
    "mask = np.zeros_like(corr, dtype=np.bool)\n",
    "mask[np.triu_indices_from(mask)] = True\n",
    "sns.set(font_scale=1.4)\n",
    "sns.heatmap(num_features.corr(), mask=mask, annot=True, fmt='.1f', linewidths=.5, cmap='GnBu')\n",
    "plt.title('Relationship matrix')\n",
    "plt.show()"
   ]
  },
  {
   "cell_type": "code",
   "execution_count": null,
   "id": "b4334053",
   "metadata": {},
   "outputs": [],
   "source": [
    "test_data.info()"
   ]
  },
  {
   "cell_type": "markdown",
   "id": "a5019e3f",
   "metadata": {},
   "source": [
    "Заполнение пропусков"
   ]
  },
  {
   "cell_type": "code",
   "execution_count": null,
   "id": "4b1854fd",
   "metadata": {},
   "outputs": [],
   "source": [
    "train_data = train_data.sort_values('Price')\n",
    "test_data = test_data.sort_values('DistrictId')\n",
    "train_data = train_data.fillna(method='pad')\n",
    "test_data = test_data.fillna(method='pad')"
   ]
  },
  {
   "cell_type": "markdown",
   "id": "7638bc98",
   "metadata": {},
   "source": [
    "Проверка данных"
   ]
  },
  {
   "cell_type": "code",
   "execution_count": null,
   "id": "8f144885",
   "metadata": {},
   "outputs": [],
   "source": [
    "rcParams['figure.figsize'] = 12, 6  # изменение размера графиков\n",
    "\n",
    "plt.scatter(train_data.Price, train_data.Square)"
   ]
  },
  {
   "cell_type": "markdown",
   "id": "51eeaf70",
   "metadata": {},
   "source": [
    "Формирование и обучение модели. Предсказание цен"
   ]
  },
  {
   "cell_type": "code",
   "execution_count": null,
   "id": "0db5fa47",
   "metadata": {},
   "outputs": [],
   "source": [
    "# формирование модели\n",
    "\n",
    "X_train = train_data.drop('Price', axis=1) # 1\n",
    "y_train = train_data['Price'] # 1\n",
    "\n",
    "X_test = test_data # 2\n",
    "\n",
    "pr = pd.DataFrame()\n",
    "pr['Id'] = X_test['Id'].copy() # 2.0\n",
    "\n",
    "del_list = [\"Id\", \"DistrictId\", \"LifeSquare\", \"Healthcare_1\", \"Ecology_2\", \"Ecology_3\", \"Shops_2\"]\n",
    "X_train.drop(del_list, axis=1, inplace=True) # 1\n",
    "X_test.drop(del_list, axis=1, inplace=True) # 2\n",
    "\n",
    "# обучение модели\n",
    "model = RandomForestRegressor(n_estimators=1000, max_depth=16, random_state=42, max_features=7)\n",
    "model.fit(X_train, y_train) # 1\n",
    "\n",
    "y_pred = model.predict(X_test) # 2\n",
    "\n",
    "# предсказание цен\n",
    "pr['Price'] = y_pred # 2.0\n",
    "pr.to_csv('predictions.csv', index=False) # 2.0"
   ]
  },
  {
   "cell_type": "code",
   "execution_count": null,
   "id": "ca84f17f",
   "metadata": {},
   "outputs": [],
   "source": []
  },
  {
   "cell_type": "code",
   "execution_count": null,
   "id": "17947e27",
   "metadata": {},
   "outputs": [],
   "source": []
  },
  {
   "cell_type": "code",
   "execution_count": null,
   "id": "6f0d3f6a",
   "metadata": {},
   "outputs": [],
   "source": []
  }
 ],
 "metadata": {
  "kernelspec": {
   "display_name": "Python 3 (ipykernel)",
   "language": "python",
   "name": "python3"
  },
  "language_info": {
   "codemirror_mode": {
    "name": "ipython",
    "version": 3
   },
   "file_extension": ".py",
   "mimetype": "text/x-python",
   "name": "python",
   "nbconvert_exporter": "python",
   "pygments_lexer": "ipython3",
   "version": "3.9.7"
  }
 },
 "nbformat": 4,
 "nbformat_minor": 5
}
